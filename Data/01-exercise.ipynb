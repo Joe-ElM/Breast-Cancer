{
 "cells": [
  {
   "cell_type": "markdown",
   "metadata": {
    "cell_content_type": "markdown_selectable",
    "changed": false,
    "deletable": false,
    "editable": false,
    "original-content": "# Coding Challenge 3: Breast Cancer Classification I (Solution)\nModule 1 | Chapter 2 | Notebook 1\n\n***\nIn this coding challenge, we'll use the k-nearest-neighbors algorithm to predict the tumor type (benign or malignant). You'll see what you need to keep in mind when using k-nearest-neighbors. By the end of this exercise you will be able to:\n* Standardize data using `StandardScaler()`\n* Perform a classification using the k-Nearest Neighbors algorithm\n***\n",
    "selectable": true
   },
   "source": [
    "# Coding Challenge 3: Breast Cancer Classification I\n",
    "Module 1 | Chapter 2 | Notebook 1\n",
    "\n",
    "***\n",
    "In this coding challenge, we'll use the k-nearest-neighbors algorithm to predict the tumor type (benign or malignant). You'll see what you need to keep in mind when using k-nearest-neighbors. By the end of this exercise you will be able to:\n",
    "* Standardize data using `StandardScaler()`\n",
    "* Perform a classification using the k-Nearest Neighbors algorithm\n",
    "***\n"
   ]
  },
  {
   "cell_type": "markdown",
   "metadata": {
    "cell_content_type": "markdown_selectable",
    "changed": false,
    "deletable": false,
    "editable": false,
    "messageType": "szenario",
    "original-content": "**Scenario:** You work as a data scientist for a scientific laboratory that specializes in studying cancer cells. Your supervisors ask you to determine whether the tumor found in a series of samples containing breast cancer cells is benign or malignant. The cell samples to be classified are provided to you in the file *breastcancer_aim.csv*. You decide to do the classification using the k-nearest-neighbors algorithm. You should evaluate your model based on accuracy. Your supervisors ask you to determine how many samples contain a malignant tumor.\n\nIn order to train your algorithm, training data is provided to you in the file *breastcancer_train.csv*. You can test the performance of your kNN classifier on independent test data *breastcancer_test.csv*. To do this, determine a suitable metric for k-nearest neighbors for classifying whether breast cancer cell samples are benign or malignant.\n",
    "selectable": true
   },
   "source": [
    "**Scenario:** You work as a data scientist for a scientific laboratory that specializes in studying cancer cells. Your supervisors ask you to determine whether the tumor found in a series of samples containing breast cancer cells is benign or malignant. The cell samples to be classified are provided to you in the file *breastcancer_aim.csv*. You decide to do the classification using the k-nearest-neighbors algorithm. You should evaluate your model based on accuracy. Your supervisors ask you to determine how many samples contain a malignant tumor.\n",
    "\n",
    "In order to train your algorithm, training data is provided to you in the file *breastcancer_train.csv*. You can test the performance of your kNN classifier on independent test data *breastcancer_test.csv*. To do this, determine a suitable metric for k-nearest neighbors for classifying whether breast cancer cell samples are benign or malignant.\n"
   ]
  },
  {
   "cell_type": "markdown",
   "metadata": {
    "cell_content_type": "markdown_selectable",
    "changed": false,
    "deletable": false,
    "editable": false,
    "original-content": "The following *data dictionary* is provided for your convenience:\n\nColumn number | Column name       | Type      | Description\n---           | ---                 | ---                 | ---\n0            | `id`       | categorical (`int`) | ID number of the cell sample.\n1 | `clump_thickness` | numeric (`int`) | clump thickness (on a scale from 1 to 10)\n2 | `size_uniformity` | numeric (`int`) | uniformity of cell size (on a scale from 1 to 10)\n3 | `shape_uniformity` | numeric (`int`) | uniformity of cell shape (on a scale from 1 to 10)\n4 | `marginal_adhesion` | numeric (`int`) | marginal adhesion (on a scale from 1 to 10)\n5 | `epithelial_size` | numeric (`int`) | single epithelial cell size (on a scale from 1 to 10)\n6 | `bare_nucleoli` | numeric (`int`) | bare nucleoli (on a scale from 1 to 10)\n7 | `bland_chromatin` | numeric (`int`) | coarse nucleation of chromatin (on a scale from 1 to 10)\n8 | `normal_nucleoli` | numeric (`int`) | Normal nucleoli (on a scale from 1 to 10)\n9 | `mitoses` | numeric (`int`) | mitoses (on a scale from 1 to 10)\n10 | `class` | categorical (`int`) | tumor type: 0 for `benign`, 1 for `malignant`\n\nYour task is to: \n1. import the data, explore it and clean it up if necessary.\n2. prepare the data for your model and evaluate the model.\n3. find a suitable $k$ for the number of nearest neighbors for classification. \n4. identify whether the cancer cell samples are benign or malignant.\n",
    "selectable": true
   },
   "source": [
    "The following *data dictionary* is provided for your convenience:\n",
    "\n",
    "Column number | Column name       | Type      | Description\n",
    "---           | ---                 | ---                 | ---\n",
    "0            | `id`       | categorical (`int`) | ID number of the cell sample.\n",
    "1 | `clump_thickness` | numeric (`int`) | clump thickness (on a scale from 1 to 10)\n",
    "2 | `size_uniformity` | numeric (`int`) | uniformity of cell size (on a scale from 1 to 10)\n",
    "3 | `shape_uniformity` | numeric (`int`) | uniformity of cell shape (on a scale from 1 to 10)\n",
    "4 | `marginal_adhesion` | numeric (`int`) | marginal adhesion (on a scale from 1 to 10)\n",
    "5 | `epithelial_size` | numeric (`int`) | single epithelial cell size (on a scale from 1 to 10)\n",
    "6 | `bare_nucleoli` | numeric (`int`) | bare nucleoli (on a scale from 1 to 10)\n",
    "7 | `bland_chromatin` | numeric (`int`) | coarse nucleation of chromatin (on a scale from 1 to 10)\n",
    "8 | `normal_nucleoli` | numeric (`int`) | Normal nucleoli (on a scale from 1 to 10)\n",
    "9 | `mitoses` | numeric (`int`) | mitoses (on a scale from 1 to 10)\n",
    "10 | `class` | categorical (`int`) | tumor type: 0 for `benign`, 1 for `malignant`\n",
    "\n",
    "Your task is to: \n",
    "1. import the data, explore it and clean it up if necessary.\n",
    "2. prepare the data for your model and evaluate the model.\n",
    "3. find a suitable $k$ for the number of nearest neighbors for classification. \n",
    "4. identify whether the cancer cell samples are benign or malignant.\n"
   ]
  },
  {
   "cell_type": "markdown",
   "metadata": {
    "cell_content_type": "markdown_selectable",
    "changed": false,
    "deletable": false,
    "editable": false,
    "original-content": "### 1. Importing the data and EDA\n\nFirst import the data from *breastcancer_train.csv* and store it in `df_train`, *breastcancer_test.csv* in `df_test` and *breastcancer_aim.csv* in `df_aim`.\n",
    "selectable": true,
    "tags": []
   },
   "source": [
    "### 1. Importing the data and EDA\n",
    "\n",
    "First import the data from *breastcancer_train.csv* and store it in `df_train`, *breastcancer_test.csv* in `df_test` and *breastcancer_aim.csv* in `df_aim`.\n"
   ]
  },
  {
   "cell_type": "code",
   "execution_count": 5,
   "metadata": {
    "cell_content_type": "code_user",
    "changed": false,
    "deletable": false,
    "editable": true,
    "hint": "First import `pandas` as `pd`. Import the three datasets using `pd.read_csv()`.",
    "hint_counter": 1,
    "original-content": "# read in data sets\n\n",
    "selectable": true,
    "tags": []
   },
   "outputs": [
    {
     "name": "stdout",
     "output_type": "stream",
     "text": [
      "(559, 11)\n"
     ]
    },
    {
     "data": {
      "text/html": [
       "<div>\n",
       "<style scoped>\n",
       "    .dataframe tbody tr th:only-of-type {\n",
       "        vertical-align: middle;\n",
       "    }\n",
       "\n",
       "    .dataframe tbody tr th {\n",
       "        vertical-align: top;\n",
       "    }\n",
       "\n",
       "    .dataframe thead th {\n",
       "        text-align: right;\n",
       "    }\n",
       "</style>\n",
       "<table border=\"1\" class=\"dataframe\">\n",
       "  <thead>\n",
       "    <tr style=\"text-align: right;\">\n",
       "      <th></th>\n",
       "      <th>id</th>\n",
       "      <th>clump_thickness</th>\n",
       "      <th>size_uniformity</th>\n",
       "      <th>shape_uniformity</th>\n",
       "      <th>marginal_adhesion</th>\n",
       "      <th>epithelial_size</th>\n",
       "      <th>bare_nucleoli</th>\n",
       "      <th>bland_chromatin</th>\n",
       "      <th>normal_nucleoli</th>\n",
       "      <th>mitoses</th>\n",
       "      <th>class</th>\n",
       "    </tr>\n",
       "  </thead>\n",
       "  <tbody>\n",
       "    <tr>\n",
       "      <th>0</th>\n",
       "      <td>1246562</td>\n",
       "      <td>10</td>\n",
       "      <td>2</td>\n",
       "      <td>2</td>\n",
       "      <td>1</td>\n",
       "      <td>2</td>\n",
       "      <td>6.0</td>\n",
       "      <td>1</td>\n",
       "      <td>1</td>\n",
       "      <td>2</td>\n",
       "      <td>1</td>\n",
       "    </tr>\n",
       "    <tr>\n",
       "      <th>1</th>\n",
       "      <td>822829</td>\n",
       "      <td>7</td>\n",
       "      <td>6</td>\n",
       "      <td>4</td>\n",
       "      <td>8</td>\n",
       "      <td>10</td>\n",
       "      <td>10.0</td>\n",
       "      <td>9</td>\n",
       "      <td>5</td>\n",
       "      <td>3</td>\n",
       "      <td>1</td>\n",
       "    </tr>\n",
       "    <tr>\n",
       "      <th>2</th>\n",
       "      <td>1217264</td>\n",
       "      <td>1</td>\n",
       "      <td>1</td>\n",
       "      <td>1</td>\n",
       "      <td>1</td>\n",
       "      <td>2</td>\n",
       "      <td>1.0</td>\n",
       "      <td>3</td>\n",
       "      <td>1</td>\n",
       "      <td>1</td>\n",
       "      <td>0</td>\n",
       "    </tr>\n",
       "    <tr>\n",
       "      <th>3</th>\n",
       "      <td>1296025</td>\n",
       "      <td>4</td>\n",
       "      <td>1</td>\n",
       "      <td>2</td>\n",
       "      <td>1</td>\n",
       "      <td>2</td>\n",
       "      <td>1.0</td>\n",
       "      <td>1</td>\n",
       "      <td>1</td>\n",
       "      <td>1</td>\n",
       "      <td>0</td>\n",
       "    </tr>\n",
       "    <tr>\n",
       "      <th>4</th>\n",
       "      <td>1203096</td>\n",
       "      <td>1</td>\n",
       "      <td>1</td>\n",
       "      <td>1</td>\n",
       "      <td>1</td>\n",
       "      <td>1</td>\n",
       "      <td>1.0</td>\n",
       "      <td>3</td>\n",
       "      <td>1</td>\n",
       "      <td>1</td>\n",
       "      <td>0</td>\n",
       "    </tr>\n",
       "  </tbody>\n",
       "</table>\n",
       "</div>"
      ],
      "text/plain": [
       "        id  clump_thickness  size_uniformity  shape_uniformity  \\\n",
       "0  1246562               10                2                 2   \n",
       "1   822829                7                6                 4   \n",
       "2  1217264                1                1                 1   \n",
       "3  1296025                4                1                 2   \n",
       "4  1203096                1                1                 1   \n",
       "\n",
       "   marginal_adhesion  epithelial_size  bare_nucleoli  bland_chromatin  \\\n",
       "0                  1                2            6.0                1   \n",
       "1                  8               10           10.0                9   \n",
       "2                  1                2            1.0                3   \n",
       "3                  1                2            1.0                1   \n",
       "4                  1                1            1.0                3   \n",
       "\n",
       "   normal_nucleoli  mitoses  class  \n",
       "0                1        2      1  \n",
       "1                5        3      1  \n",
       "2                1        1      0  \n",
       "3                1        1      0  \n",
       "4                1        1      0  "
      ]
     },
     "execution_count": 5,
     "metadata": {},
     "output_type": "execute_result"
    }
   ],
   "source": [
    "import pandas as pd\n",
    "df = pd.read_csv('breastcancer_train.csv')\n",
    "print(df.shape)\n",
    "df.head()"
   ]
  },
  {
   "cell_type": "markdown",
   "metadata": {
    "cell_content_type": "markdown_default",
    "changed": false,
    "deletable": false,
    "editable": false,
    "original-content": "Now explore the data.\n",
    "selectable": false
   },
   "source": [
    "Now explore the data.\n"
   ]
  },
  {
   "cell_type": "code",
   "execution_count": 2,
   "metadata": {
    "cell_content_type": "code_user",
    "changed": false,
    "deletable": false,
    "editable": true,
    "hint": "For example, use the attribute `my_df.shape` to output the number of rows and columns for each dataset.",
    "hint_counter": 1,
    "original-content": "# number of rows and columns\n\n",
    "selectable": true,
    "tags": []
   },
   "outputs": [
    {
     "name": "stdout",
     "output_type": "stream",
     "text": [
      "<class 'pandas.core.frame.DataFrame'>\n",
      "RangeIndex: 559 entries, 0 to 558\n",
      "Data columns (total 11 columns):\n",
      " #   Column             Non-Null Count  Dtype   \n",
      "---  ------             --------------  -----   \n",
      " 0   id                 559 non-null    category\n",
      " 1   clump_thickness    559 non-null    int64   \n",
      " 2   size_uniformity    559 non-null    int64   \n",
      " 3   shape_uniformity   559 non-null    int64   \n",
      " 4   marginal_adhesion  559 non-null    int64   \n",
      " 5   epithelial_size    559 non-null    int64   \n",
      " 6   bare_nucleoli      543 non-null    float64 \n",
      " 7   bland_chromatin    559 non-null    int64   \n",
      " 8   normal_nucleoli    559 non-null    int64   \n",
      " 9   mitoses            559 non-null    int64   \n",
      " 10  class              559 non-null    category\n",
      "dtypes: category(2), float64(1), int64(8)\n",
      "memory usage: 61.4 KB\n"
     ]
    }
   ],
   "source": [
    "# number of rows and columns\n",
    "df = df.astype({'class':'category', 'id':'category'})\n",
    "df.info(memory_usage = 'deep')"
   ]
  },
  {
   "cell_type": "code",
   "execution_count": 3,
   "metadata": {
    "cell_content_type": "code_user",
    "changed": false,
    "deletable": false,
    "editable": true,
    "hint": "Use e.g. `my_df.describe()` to look at the 8-value summary of the training dataset. Do you notice any unusual values?\n\n**Tip:** With `pd.set_option('display.float_format, lambda x: '%.2f' % x)` you can switch off the scientific notation and output your values to two decimal places. The values are not rounded directly (i.e. not changed), but only displayed in rounded format.",
    "hint_counter": 2,
    "original-content": "# check for unrealistic or impossible values \n\n",
    "selectable": true,
    "tags": []
   },
   "outputs": [
    {
     "data": {
      "text/html": [
       "<div>\n",
       "<style scoped>\n",
       "    .dataframe tbody tr th:only-of-type {\n",
       "        vertical-align: middle;\n",
       "    }\n",
       "\n",
       "    .dataframe tbody tr th {\n",
       "        vertical-align: top;\n",
       "    }\n",
       "\n",
       "    .dataframe thead th {\n",
       "        text-align: right;\n",
       "    }\n",
       "</style>\n",
       "<table border=\"1\" class=\"dataframe\">\n",
       "  <thead>\n",
       "    <tr style=\"text-align: right;\">\n",
       "      <th></th>\n",
       "      <th>count</th>\n",
       "      <th>mean</th>\n",
       "      <th>std</th>\n",
       "      <th>min</th>\n",
       "      <th>25%</th>\n",
       "      <th>50%</th>\n",
       "      <th>75%</th>\n",
       "      <th>max</th>\n",
       "    </tr>\n",
       "  </thead>\n",
       "  <tbody>\n",
       "    <tr>\n",
       "      <th>clump_thickness</th>\n",
       "      <td>559.0</td>\n",
       "      <td>4.359571</td>\n",
       "      <td>2.843822</td>\n",
       "      <td>1.0</td>\n",
       "      <td>2.0</td>\n",
       "      <td>4.0</td>\n",
       "      <td>6.0</td>\n",
       "      <td>10.0</td>\n",
       "    </tr>\n",
       "    <tr>\n",
       "      <th>size_uniformity</th>\n",
       "      <td>559.0</td>\n",
       "      <td>3.071556</td>\n",
       "      <td>2.981165</td>\n",
       "      <td>1.0</td>\n",
       "      <td>1.0</td>\n",
       "      <td>1.0</td>\n",
       "      <td>4.0</td>\n",
       "      <td>10.0</td>\n",
       "    </tr>\n",
       "    <tr>\n",
       "      <th>shape_uniformity</th>\n",
       "      <td>559.0</td>\n",
       "      <td>3.175313</td>\n",
       "      <td>2.931970</td>\n",
       "      <td>1.0</td>\n",
       "      <td>1.0</td>\n",
       "      <td>1.0</td>\n",
       "      <td>5.0</td>\n",
       "      <td>10.0</td>\n",
       "    </tr>\n",
       "    <tr>\n",
       "      <th>marginal_adhesion</th>\n",
       "      <td>559.0</td>\n",
       "      <td>2.735242</td>\n",
       "      <td>2.800671</td>\n",
       "      <td>1.0</td>\n",
       "      <td>1.0</td>\n",
       "      <td>1.0</td>\n",
       "      <td>3.0</td>\n",
       "      <td>10.0</td>\n",
       "    </tr>\n",
       "    <tr>\n",
       "      <th>epithelial_size</th>\n",
       "      <td>559.0</td>\n",
       "      <td>3.164580</td>\n",
       "      <td>2.182883</td>\n",
       "      <td>1.0</td>\n",
       "      <td>2.0</td>\n",
       "      <td>2.0</td>\n",
       "      <td>4.0</td>\n",
       "      <td>10.0</td>\n",
       "    </tr>\n",
       "    <tr>\n",
       "      <th>bare_nucleoli</th>\n",
       "      <td>543.0</td>\n",
       "      <td>3.528545</td>\n",
       "      <td>3.646084</td>\n",
       "      <td>1.0</td>\n",
       "      <td>1.0</td>\n",
       "      <td>1.0</td>\n",
       "      <td>6.0</td>\n",
       "      <td>10.0</td>\n",
       "    </tr>\n",
       "    <tr>\n",
       "      <th>bland_chromatin</th>\n",
       "      <td>559.0</td>\n",
       "      <td>3.427549</td>\n",
       "      <td>2.458551</td>\n",
       "      <td>1.0</td>\n",
       "      <td>2.0</td>\n",
       "      <td>3.0</td>\n",
       "      <td>5.0</td>\n",
       "      <td>10.0</td>\n",
       "    </tr>\n",
       "    <tr>\n",
       "      <th>normal_nucleoli</th>\n",
       "      <td>559.0</td>\n",
       "      <td>2.833631</td>\n",
       "      <td>3.034901</td>\n",
       "      <td>1.0</td>\n",
       "      <td>1.0</td>\n",
       "      <td>1.0</td>\n",
       "      <td>3.0</td>\n",
       "      <td>10.0</td>\n",
       "    </tr>\n",
       "    <tr>\n",
       "      <th>mitoses</th>\n",
       "      <td>559.0</td>\n",
       "      <td>1.554562</td>\n",
       "      <td>1.626442</td>\n",
       "      <td>1.0</td>\n",
       "      <td>1.0</td>\n",
       "      <td>1.0</td>\n",
       "      <td>1.0</td>\n",
       "      <td>10.0</td>\n",
       "    </tr>\n",
       "  </tbody>\n",
       "</table>\n",
       "</div>"
      ],
      "text/plain": [
       "                   count      mean       std  min  25%  50%  75%   max\n",
       "clump_thickness    559.0  4.359571  2.843822  1.0  2.0  4.0  6.0  10.0\n",
       "size_uniformity    559.0  3.071556  2.981165  1.0  1.0  1.0  4.0  10.0\n",
       "shape_uniformity   559.0  3.175313  2.931970  1.0  1.0  1.0  5.0  10.0\n",
       "marginal_adhesion  559.0  2.735242  2.800671  1.0  1.0  1.0  3.0  10.0\n",
       "epithelial_size    559.0  3.164580  2.182883  1.0  2.0  2.0  4.0  10.0\n",
       "bare_nucleoli      543.0  3.528545  3.646084  1.0  1.0  1.0  6.0  10.0\n",
       "bland_chromatin    559.0  3.427549  2.458551  1.0  2.0  3.0  5.0  10.0\n",
       "normal_nucleoli    559.0  2.833631  3.034901  1.0  1.0  1.0  3.0  10.0\n",
       "mitoses            559.0  1.554562  1.626442  1.0  1.0  1.0  1.0  10.0"
      ]
     },
     "execution_count": 3,
     "metadata": {},
     "output_type": "execute_result"
    }
   ],
   "source": [
    "# check for unrealistic or impossible values \n",
    "df.describe().T"
   ]
  },
  {
   "cell_type": "code",
   "execution_count": 4,
   "metadata": {
    "cell_content_type": "code_user",
    "changed": false,
    "deletable": false,
    "editable": true,
    "hint": "You should not have found any unusual data points in the training data set. Now turn your attention to the data types of the columns in each data set. You can find their correct data types in the data dictionary at the beginning of this coding challenge. You should convert two columns in the training set as well as in the test data set. In the target data set,  you only need to adjust the data type one column.\n\n**Tip:** Columns containing `NaN` values - that is, values that do not exist or cannot be interpreted by Python - are always stored with a `float64` data type.",
    "hint_counter": 1,
    "original-content": "# check data types and convert to correct format\n\n",
    "selectable": true,
    "tags": []
   },
   "outputs": [
    {
     "data": {
      "text/plain": [
       "(559, 11)"
      ]
     },
     "execution_count": 4,
     "metadata": {},
     "output_type": "execute_result"
    }
   ],
   "source": [
    "# check data types and convert to correct format\n",
    "df.shape"
   ]
  },
  {
   "cell_type": "code",
   "execution_count": 5,
   "metadata": {
    "cell_content_type": "code_user",
    "changed": false,
    "deletable": false,
    "editable": true,
    "hint": "For example, use `my_df.unique()` to check whether the classes contained in the training data set match those in the test data set. The classes are located in the `'class'`.",
    "hint_counter": 3,
    "original-content": "# check for unique values of classes in train- and test set (aim_set does not contain classes)\n\n",
    "selectable": true,
    "tags": []
   },
   "outputs": [
    {
     "name": "stdout",
     "output_type": "stream",
     "text": [
      "number of unique IDs: 522\n"
     ]
    },
    {
     "data": {
      "text/html": [
       "<div>\n",
       "<style scoped>\n",
       "    .dataframe tbody tr th:only-of-type {\n",
       "        vertical-align: middle;\n",
       "    }\n",
       "\n",
       "    .dataframe tbody tr th {\n",
       "        vertical-align: top;\n",
       "    }\n",
       "\n",
       "    .dataframe thead th {\n",
       "        text-align: right;\n",
       "    }\n",
       "</style>\n",
       "<table border=\"1\" class=\"dataframe\">\n",
       "  <thead>\n",
       "    <tr style=\"text-align: right;\">\n",
       "      <th></th>\n",
       "      <th>id</th>\n",
       "      <th>clump_thickness</th>\n",
       "      <th>size_uniformity</th>\n",
       "      <th>shape_uniformity</th>\n",
       "      <th>marginal_adhesion</th>\n",
       "      <th>epithelial_size</th>\n",
       "      <th>bare_nucleoli</th>\n",
       "      <th>bland_chromatin</th>\n",
       "      <th>normal_nucleoli</th>\n",
       "      <th>mitoses</th>\n",
       "      <th>class</th>\n",
       "    </tr>\n",
       "  </thead>\n",
       "  <tbody>\n",
       "    <tr>\n",
       "      <th>25</th>\n",
       "      <td>61634</td>\n",
       "      <td>5</td>\n",
       "      <td>4</td>\n",
       "      <td>3</td>\n",
       "      <td>1</td>\n",
       "      <td>2</td>\n",
       "      <td>NaN</td>\n",
       "      <td>2</td>\n",
       "      <td>3</td>\n",
       "      <td>1</td>\n",
       "      <td>0</td>\n",
       "    </tr>\n",
       "    <tr>\n",
       "      <th>30</th>\n",
       "      <td>432809</td>\n",
       "      <td>3</td>\n",
       "      <td>1</td>\n",
       "      <td>3</td>\n",
       "      <td>1</td>\n",
       "      <td>2</td>\n",
       "      <td>NaN</td>\n",
       "      <td>2</td>\n",
       "      <td>1</td>\n",
       "      <td>1</td>\n",
       "      <td>0</td>\n",
       "    </tr>\n",
       "    <tr>\n",
       "      <th>88</th>\n",
       "      <td>169356</td>\n",
       "      <td>3</td>\n",
       "      <td>1</td>\n",
       "      <td>1</td>\n",
       "      <td>1</td>\n",
       "      <td>2</td>\n",
       "      <td>NaN</td>\n",
       "      <td>3</td>\n",
       "      <td>1</td>\n",
       "      <td>1</td>\n",
       "      <td>0</td>\n",
       "    </tr>\n",
       "    <tr>\n",
       "      <th>89</th>\n",
       "      <td>1193683</td>\n",
       "      <td>1</td>\n",
       "      <td>1</td>\n",
       "      <td>2</td>\n",
       "      <td>1</td>\n",
       "      <td>3</td>\n",
       "      <td>NaN</td>\n",
       "      <td>1</td>\n",
       "      <td>1</td>\n",
       "      <td>1</td>\n",
       "      <td>0</td>\n",
       "    </tr>\n",
       "    <tr>\n",
       "      <th>133</th>\n",
       "      <td>1096800</td>\n",
       "      <td>6</td>\n",
       "      <td>6</td>\n",
       "      <td>6</td>\n",
       "      <td>9</td>\n",
       "      <td>6</td>\n",
       "      <td>NaN</td>\n",
       "      <td>7</td>\n",
       "      <td>8</td>\n",
       "      <td>1</td>\n",
       "      <td>0</td>\n",
       "    </tr>\n",
       "    <tr>\n",
       "      <th>151</th>\n",
       "      <td>704168</td>\n",
       "      <td>4</td>\n",
       "      <td>6</td>\n",
       "      <td>5</td>\n",
       "      <td>6</td>\n",
       "      <td>7</td>\n",
       "      <td>NaN</td>\n",
       "      <td>4</td>\n",
       "      <td>9</td>\n",
       "      <td>1</td>\n",
       "      <td>0</td>\n",
       "    </tr>\n",
       "    <tr>\n",
       "      <th>158</th>\n",
       "      <td>733639</td>\n",
       "      <td>3</td>\n",
       "      <td>1</td>\n",
       "      <td>1</td>\n",
       "      <td>1</td>\n",
       "      <td>2</td>\n",
       "      <td>NaN</td>\n",
       "      <td>3</td>\n",
       "      <td>1</td>\n",
       "      <td>1</td>\n",
       "      <td>0</td>\n",
       "    </tr>\n",
       "    <tr>\n",
       "      <th>174</th>\n",
       "      <td>1241232</td>\n",
       "      <td>3</td>\n",
       "      <td>1</td>\n",
       "      <td>4</td>\n",
       "      <td>1</td>\n",
       "      <td>2</td>\n",
       "      <td>NaN</td>\n",
       "      <td>3</td>\n",
       "      <td>1</td>\n",
       "      <td>1</td>\n",
       "      <td>0</td>\n",
       "    </tr>\n",
       "    <tr>\n",
       "      <th>176</th>\n",
       "      <td>1183246</td>\n",
       "      <td>1</td>\n",
       "      <td>1</td>\n",
       "      <td>1</td>\n",
       "      <td>1</td>\n",
       "      <td>1</td>\n",
       "      <td>NaN</td>\n",
       "      <td>2</td>\n",
       "      <td>1</td>\n",
       "      <td>1</td>\n",
       "      <td>0</td>\n",
       "    </tr>\n",
       "    <tr>\n",
       "      <th>204</th>\n",
       "      <td>1238464</td>\n",
       "      <td>1</td>\n",
       "      <td>1</td>\n",
       "      <td>1</td>\n",
       "      <td>1</td>\n",
       "      <td>1</td>\n",
       "      <td>NaN</td>\n",
       "      <td>2</td>\n",
       "      <td>1</td>\n",
       "      <td>1</td>\n",
       "      <td>0</td>\n",
       "    </tr>\n",
       "    <tr>\n",
       "      <th>237</th>\n",
       "      <td>563649</td>\n",
       "      <td>8</td>\n",
       "      <td>8</td>\n",
       "      <td>8</td>\n",
       "      <td>1</td>\n",
       "      <td>2</td>\n",
       "      <td>NaN</td>\n",
       "      <td>6</td>\n",
       "      <td>10</td>\n",
       "      <td>1</td>\n",
       "      <td>1</td>\n",
       "    </tr>\n",
       "    <tr>\n",
       "      <th>267</th>\n",
       "      <td>1057013</td>\n",
       "      <td>8</td>\n",
       "      <td>4</td>\n",
       "      <td>5</td>\n",
       "      <td>1</td>\n",
       "      <td>2</td>\n",
       "      <td>NaN</td>\n",
       "      <td>7</td>\n",
       "      <td>3</td>\n",
       "      <td>1</td>\n",
       "      <td>1</td>\n",
       "    </tr>\n",
       "    <tr>\n",
       "      <th>279</th>\n",
       "      <td>606140</td>\n",
       "      <td>1</td>\n",
       "      <td>1</td>\n",
       "      <td>1</td>\n",
       "      <td>1</td>\n",
       "      <td>2</td>\n",
       "      <td>NaN</td>\n",
       "      <td>2</td>\n",
       "      <td>1</td>\n",
       "      <td>1</td>\n",
       "      <td>0</td>\n",
       "    </tr>\n",
       "    <tr>\n",
       "      <th>351</th>\n",
       "      <td>1184840</td>\n",
       "      <td>1</td>\n",
       "      <td>1</td>\n",
       "      <td>3</td>\n",
       "      <td>1</td>\n",
       "      <td>2</td>\n",
       "      <td>NaN</td>\n",
       "      <td>2</td>\n",
       "      <td>1</td>\n",
       "      <td>1</td>\n",
       "      <td>0</td>\n",
       "    </tr>\n",
       "    <tr>\n",
       "      <th>379</th>\n",
       "      <td>1057067</td>\n",
       "      <td>1</td>\n",
       "      <td>1</td>\n",
       "      <td>1</td>\n",
       "      <td>1</td>\n",
       "      <td>1</td>\n",
       "      <td>NaN</td>\n",
       "      <td>1</td>\n",
       "      <td>1</td>\n",
       "      <td>1</td>\n",
       "      <td>0</td>\n",
       "    </tr>\n",
       "    <tr>\n",
       "      <th>498</th>\n",
       "      <td>1197510</td>\n",
       "      <td>5</td>\n",
       "      <td>1</td>\n",
       "      <td>1</td>\n",
       "      <td>1</td>\n",
       "      <td>2</td>\n",
       "      <td>NaN</td>\n",
       "      <td>3</td>\n",
       "      <td>1</td>\n",
       "      <td>1</td>\n",
       "      <td>0</td>\n",
       "    </tr>\n",
       "  </tbody>\n",
       "</table>\n",
       "</div>"
      ],
      "text/plain": [
       "          id  clump_thickness  size_uniformity  shape_uniformity  \\\n",
       "25     61634                5                4                 3   \n",
       "30    432809                3                1                 3   \n",
       "88    169356                3                1                 1   \n",
       "89   1193683                1                1                 2   \n",
       "133  1096800                6                6                 6   \n",
       "151   704168                4                6                 5   \n",
       "158   733639                3                1                 1   \n",
       "174  1241232                3                1                 4   \n",
       "176  1183246                1                1                 1   \n",
       "204  1238464                1                1                 1   \n",
       "237   563649                8                8                 8   \n",
       "267  1057013                8                4                 5   \n",
       "279   606140                1                1                 1   \n",
       "351  1184840                1                1                 3   \n",
       "379  1057067                1                1                 1   \n",
       "498  1197510                5                1                 1   \n",
       "\n",
       "     marginal_adhesion  epithelial_size  bare_nucleoli  bland_chromatin  \\\n",
       "25                   1                2            NaN                2   \n",
       "30                   1                2            NaN                2   \n",
       "88                   1                2            NaN                3   \n",
       "89                   1                3            NaN                1   \n",
       "133                  9                6            NaN                7   \n",
       "151                  6                7            NaN                4   \n",
       "158                  1                2            NaN                3   \n",
       "174                  1                2            NaN                3   \n",
       "176                  1                1            NaN                2   \n",
       "204                  1                1            NaN                2   \n",
       "237                  1                2            NaN                6   \n",
       "267                  1                2            NaN                7   \n",
       "279                  1                2            NaN                2   \n",
       "351                  1                2            NaN                2   \n",
       "379                  1                1            NaN                1   \n",
       "498                  1                2            NaN                3   \n",
       "\n",
       "     normal_nucleoli  mitoses class  \n",
       "25                 3        1     0  \n",
       "30                 1        1     0  \n",
       "88                 1        1     0  \n",
       "89                 1        1     0  \n",
       "133                8        1     0  \n",
       "151                9        1     0  \n",
       "158                1        1     0  \n",
       "174                1        1     0  \n",
       "176                1        1     0  \n",
       "204                1        1     0  \n",
       "237               10        1     1  \n",
       "267                3        1     1  \n",
       "279                1        1     0  \n",
       "351                1        1     0  \n",
       "379                1        1     0  \n",
       "498                1        1     0  "
      ]
     },
     "execution_count": 5,
     "metadata": {},
     "output_type": "execute_result"
    }
   ],
   "source": [
    "# check for unique values of classes in train- and test set (aim_set does not contain classes)\n",
    "print('number of unique IDs:', df.id.nunique())\n",
    "#df[df.duplicated(['id'])]\n",
    "df[df.bare_nucleoli.isna()]"
   ]
  },
  {
   "cell_type": "code",
   "execution_count": 6,
   "metadata": {
    "cell_content_type": "code_user",
    "changed": false,
    "deletable": false,
    "editable": true,
    "hint": "For example, use `my_df.value_counts()` to check how the classes are distributed in the `'class'` column. With the parameter `normalize=True` you can normalize the distribution, i.e. display it in percentages. Is the distribution of the classes in the `'class'` similar to in the test dataset?",
    "hint_counter": 1,
    "original-content": "# check distribituon of classes in train- and test dataset \n\n",
    "selectable": true,
    "tags": []
   },
   "outputs": [
    {
     "data": {
      "text/plain": [
       "0    0.660107\n",
       "1    0.339893\n",
       "Name: class, dtype: float64"
      ]
     },
     "execution_count": 6,
     "metadata": {},
     "output_type": "execute_result"
    }
   ],
   "source": [
    "# check distribituon of classes in train- and test dataset \n",
    "\n",
    "df.loc[:,'class'].value_counts(normalize = True)"
   ]
  },
  {
   "cell_type": "code",
   "execution_count": 7,
   "metadata": {
    "cell_content_type": "code_user",
    "changed": false,
    "deletable": false,
    "editable": true,
    "hint": "For example, use `my_df.isna().sum()` to check if there are missing values in the three data sets. You should only find missing values in the training data set. Unfortunately, we cannot replace these values with better values at this point. Furthermore, there are only a few missing values that we can do without. So you can delete these the rows that contain these few values.",
    "hint_counter": 2,
    "original-content": "# check for missing values and handle them\n\n",
    "selectable": true,
    "tags": []
   },
   "outputs": [
    {
     "data": {
      "text/plain": [
       "id                   0\n",
       "clump_thickness      0\n",
       "size_uniformity      0\n",
       "shape_uniformity     0\n",
       "marginal_adhesion    0\n",
       "epithelial_size      0\n",
       "bare_nucleoli        0\n",
       "bland_chromatin      0\n",
       "normal_nucleoli      0\n",
       "mitoses              0\n",
       "class                0\n",
       "dtype: int64"
      ]
     },
     "execution_count": 7,
     "metadata": {},
     "output_type": "execute_result"
    }
   ],
   "source": [
    "# check for missing values and handle them\n",
    "df.dropna(how = 'any', inplace =  True)\n",
    "df.isna().sum()"
   ]
  },
  {
   "cell_type": "markdown",
   "metadata": {
    "cell_content_type": "markdown_default",
    "changed": false,
    "deletable": false,
    "editable": false,
    "original-content": "### 2. Data preparation, modeling and model interpretation\n\nOnce you've imported, explored and cleaned the data, we now need to prepare the it for the model. Explore whether the columns correlate with each other and whether individual correlations are problematic for analysis.\n\n**Tip:** Correlation coefficients from $r$=.1 are considered low, from $r$=.3 moderate, and from $r$=.5 high.\n",
    "selectable": false
   },
   "source": [
    "### 2. Data preparation, modeling and model interpretation\n",
    "\n",
    "Once you've imported, explored and cleaned the data, we now need to prepare the it for the model. Explore whether the columns correlate with each other and whether individual correlations are problematic for analysis.\n",
    "\n",
    "**Tip:** Correlation coefficients from $r$=.1 are considered low, from $r$=.3 moderate, and from $r$=.5 high.\n"
   ]
  },
  {
   "cell_type": "code",
   "execution_count": 8,
   "metadata": {
    "cell_content_type": "code_user",
    "changed": false,
    "deletable": false,
    "editable": true,
    "hint": "Get a correlation matrix using `my_df.corr()`. Even moderate correlations from r=.3 are considered problematic, since we can no longer assume that the features are independent. There is only one column that is largely independent of most of the other columns. Choose the appropriate variable pairing here. This will later become our feature matrix.\n\n**Tip:** If you put a *heatmap* on your correlation matrix using `seaborn.heatmap()`, the strengths of the correlation coefficients will be highlighted using colors. You can display the coefficients in your heatmap with the parameter `annot=True`. Set the format to two decimal places with `fmt='.2f`. Set `vmin=-1` and `vmax=1` to anchor the color scale of the *heatmap* between a perfect negative and a perfect positive correlation. Fit your *heatmap* into a subplot measuring 14 inches by 10 inches. Don't forget to import `matplotlib.pyplot` and `seaborn` under their usual aliases at the beginning.",
    "hint_counter": 3,
    "original-content": "# check for intercorrelations in train set\n\n",
    "selectable": true,
    "tags": []
   },
   "outputs": [
    {
     "data": {
      "image/png": "[encoded data removed]",
      "text/plain": [
       "<Figure size 720x576 with 2 Axes>"
      ]
     },
     "metadata": {
      "needs_background": "light"
     },
     "output_type": "display_data"
    }
   ],
   "source": [
    "# check for intercorrelations in train set\n",
    "import matplotlib.pyplot as plt\n",
    "import seaborn as sns\n",
    "import numpy as np\n",
    "#---------------------------------------\n",
    "fig, ax = plt.subplots(figsize = [10,8])\n",
    "corr = df.corr()\n",
    "matrix = np.triu(corr)\n",
    "#--------------------------------------\n",
    "sns.heatmap(data  = corr, \n",
    "            annot =  True, \n",
    "            vmin  = -1 , \n",
    "            vmax  = 1, \n",
    "            cmap  = 'coolwarm', \n",
    "            mask  = matrix, \n",
    "            linewidths=0.5,\n",
    "            linecolor='white');"
   ]
  },
  {
   "cell_type": "markdown",
   "metadata": {
    "cell_content_type": "markdown_selectable",
    "changed": false,
    "deletable": false,
    "editable": false,
    "original-content": "Only the `'mitoses'` column seems to have low correlations with other features. The choice here is `'bland_chromatin'`, which has the lowest correlation with the `'mitoses'` column. \n\nNow create the feature matrix and the target vector for the training and test data set. Only use the `'bland_chromatin'` and `'mitoses'` columns as features. The target vector should be `'class'`.\n\n**Tip:** For the training data set, the feature matrix should be named `features_train` and the target vector `target_train`. Make sure you standardize the features to make them comparable to each other.\n",
    "selectable": true
   },
   "source": [
    "Only the `'mitoses'` column seems to have low correlations with other features. The choice here is `'bland_chromatin'`, which has the lowest correlation with the `'mitoses'` column. \n",
    "\n",
    "Now create the feature matrix and the target vector for the training and test data set. Only use the `'bland_chromatin'` and `'mitoses'` columns as features. The target vector should be `'class'`.\n",
    "\n",
    "**Tip:** For the training data set, the feature matrix should be named `features_train` and the target vector `target_train`. Make sure you standardize the features to make them comparable to each other.\n"
   ]
  },
  {
   "cell_type": "code",
   "execution_count": 9,
   "metadata": {
    "cell_content_type": "code_user",
    "changed": false,
    "deletable": false,
    "editable": true,
    "hint": "The features for the **training data set** should be named `features_train`. This should contain the columns `'bland_chromatin'` and `'mitoses'`. The target vector of the training data should be `'class'` and stored in `target_train`. Remember to standardize your features. To do this, import `StandardScaler()` from `sklearn.preprocessing`. Instantiate this, for example as `scaler`. Fit your *scaler* to `features_train` and then transform the feature matrix data. Store your output in `features_train_standardized`.\n\n**Tip:** Make sure that the feature matrix in `sklearn` must always be a `DataFrame`!",
    "hint_counter": 5,
    "original-content": "# feature matrix and target vector for train set\n\n",
    "selectable": true,
    "tags": []
   },
   "outputs": [],
   "source": [
    "# feature matrix and target vector for train set\n",
    "from sklearn.preprocessing import StandardScaler\n",
    "\n",
    "features_train = df.loc[:, ['mitoses', 'bland_chromatin']]\n",
    "target_train   = df.loc[:,'class']\n",
    "\n",
    "scaler = StandardScaler()\n",
    "features_train_standardized = scaler.fit_transform(features_train)\n"
   ]
  },
  {
   "cell_type": "markdown",
   "metadata": {
    "cell_content_type": "markdown_selectable",
    "changed": false,
    "deletable": false,
    "editable": false,
    "original-content": "For the test data set, the feature matrix should be named`features_test` and the target vector `target_test`. Again, make sure you standardize the features in each case to make it possible to compare them.\n",
    "selectable": true
   },
   "source": [
    "For the test data set, the feature matrix should be named`features_test` and the target vector `target_test`. Again, make sure you standardize the features in each case to make it possible to compare them.\n"
   ]
  },
  {
   "cell_type": "code",
   "execution_count": 10,
   "metadata": {
    "cell_content_type": "code_user",
    "changed": false,
    "deletable": false,
    "editable": true,
    "hint": "The features for the **test data set** should be named `features_test`. This should also again contain the columns `'bland_chromatin'` and `'mitoses'`. The target vector of the test dataset should also be `'class'` here and stored in `target_test`. Even with the test data set, remember to standardize your features. Transform `features_test` with your *scaler* and store your output in `features_test_standardized`.",
    "hint_counter": 4,
    "original-content": "# feature matrix and target vector for train set\n\n",
    "selectable": true,
    "tags": []
   },
   "outputs": [],
   "source": [
    "# feature matrix and target vector for train set\n",
    "df_test = pd.read_csv('breastcancer_test.csv')\n",
    "df_test = df_test.astype({'class':'category', 'id':'category'})\n",
    "\n",
    "features_test = df_test.loc[:, ['mitoses', 'bland_chromatin']]\n",
    "target_test   = df_test.loc[:,'class']\n",
    "features_test_standardized = scaler.transform(features_test)"
   ]
  },
  {
   "cell_type": "markdown",
   "metadata": {
    "cell_content_type": "markdown_selectable",
    "changed": false,
    "deletable": false,
    "editable": false,
    "original-content": "### 3. Determining a suitable $k$ for the number of nearest neighbors for classification\n\nNow that you've prepared the data, let's turn our attention to modeling. Our statistical model will use the k-nearest-neighbors algorithm.\n\nRemember the following modeling steps for using `sklearn`:\n1. Select model type\n2. Instantiate the model with certain hyperparameters\n3. Split data into a feature matrix and target vector\n4. Model fitting\n5. Making predictions with the trained model\n\nEvaluate the performance of your k-nearest-neighbors algorithm based on the **test data set**, for different numbers of nearest neighbors, namely from one to ten nearest neighbors. \n\nTo do this, write a `for` loop that iterates through the number of nearest neighbors. In the loop, instantiate your statistical model (`KNeighborsClassifier()`) and fit it to the training data set. Using the trained model, predict the target vector based on the standardized features of the test data set. Then calculate the accuracy (`accuracy_score()`) for the respective fitted model and store it in a list.\n",
    "selectable": true
   },
   "source": [
    "### 3. Determining a suitable $k$ for the number of nearest neighbors for classification\n",
    "\n",
    "Now that you've prepared the data, let's turn our attention to modeling. Our statistical model will use the k-nearest-neighbors algorithm.\n",
    "\n",
    "Remember the following modeling steps for using `sklearn`:\n",
    "1. Select model type\n",
    "2. Instantiate the model with certain hyperparameters\n",
    "3. Split data into a feature matrix and target vector\n",
    "4. Model fitting\n",
    "5. Making predictions with the trained model\n",
    "\n",
    "Evaluate the performance of your k-nearest-neighbors algorithm based on the **test data set**, for different numbers of nearest neighbors, namely from one to ten nearest neighbors. \n",
    "\n",
    "To do this, write a `for` loop that iterates through the number of nearest neighbors. In the loop, instantiate your statistical model (`KNeighborsClassifier()`) and fit it to the training data set. Using the trained model, predict the target vector based on the standardized features of the test data set. Then calculate the accuracy (`accuracy_score()`) for the respective fitted model and store it in a list.\n"
   ]
  },
  {
   "cell_type": "code",
   "execution_count": 11,
   "metadata": {
    "cell_content_type": "code_user",
    "changed": false,
    "deletable": false,
    "editable": true,
    "hint": "1. First import `KNeighborsClassifier()` from `sklearn.neighbors` and `accuracy_score()` from `sklearn.metrics`.\n\n2. Create an empty list before the loop, where all accuracy values from `n_neighbors=1` to `n_neighbors=10` should be stored later. Call this something like `score_list`.\n\n3. Use a `for` loop to iterate through a series of numbers from 1 to 10, instantiating `KNeighborsClassifier()` with the respective value for k (`n_neighbors`) at each iteration. Store your model in variable named something like `model_knn`.\n\n4. Fit your model to the standardized features and the target vector from the training data.\n\n5. Using the trained model, predict the target vector from the standardized features of the test data set and store these predictions in a variable named something like `target_test_pred`.\n\n6 Calculate the `accuracy_score()` of each model using the actual values and the predicted values for the target vector `'class'` of the test data set. Store the accuracy values e.g. using `my_list.append()` in the `score_list` list created at the beginning. Note that this method takes place *inplace*, so the list is modified directly.",
    "hint_counter": 3,
    "original-content": "# model evaluation with accuracy for k=1 to k=10\n\n",
    "selectable": true,
    "tags": []
   },
   "outputs": [
    {
     "data": {
      "text/html": [
       "<style  type=\"text/css\" >\n",
       "</style><table id=\"T_70cb6_\" ><thead>    <tr>        <th class=\"col_heading level0 col0\" >KNN #</th>        <th class=\"col_heading level0 col1\" >Accuracy</th>    </tr></thead><tbody>\n",
       "                <tr>\n",
       "                                <td id=\"T_70cb6_row0_col0\" class=\"data row0 col0\" >1</td>\n",
       "                        <td id=\"T_70cb6_row0_col1\" class=\"data row0 col1\" >0.828571</td>\n",
       "            </tr>\n",
       "            <tr>\n",
       "                                <td id=\"T_70cb6_row1_col0\" class=\"data row1 col0\" >2</td>\n",
       "                        <td id=\"T_70cb6_row1_col1\" class=\"data row1 col1\" >0.842857</td>\n",
       "            </tr>\n",
       "            <tr>\n",
       "                                <td id=\"T_70cb6_row2_col0\" class=\"data row2 col0\" >3</td>\n",
       "                        <td id=\"T_70cb6_row2_col1\" class=\"data row2 col1\" >0.871429</td>\n",
       "            </tr>\n",
       "            <tr>\n",
       "                                <td id=\"T_70cb6_row3_col0\" class=\"data row3 col0\" >4</td>\n",
       "                        <td id=\"T_70cb6_row3_col1\" class=\"data row3 col1\" >0.885714</td>\n",
       "            </tr>\n",
       "            <tr>\n",
       "                                <td id=\"T_70cb6_row4_col0\" class=\"data row4 col0\" >5</td>\n",
       "                        <td id=\"T_70cb6_row4_col1\" class=\"data row4 col1\" >0.857143</td>\n",
       "            </tr>\n",
       "            <tr>\n",
       "                                <td id=\"T_70cb6_row5_col0\" class=\"data row5 col0\" >6</td>\n",
       "                        <td id=\"T_70cb6_row5_col1\" class=\"data row5 col1\" >0.871429</td>\n",
       "            </tr>\n",
       "            <tr>\n",
       "                                <td id=\"T_70cb6_row6_col0\" class=\"data row6 col0\" >7</td>\n",
       "                        <td id=\"T_70cb6_row6_col1\" class=\"data row6 col1\" >0.857143</td>\n",
       "            </tr>\n",
       "            <tr>\n",
       "                                <td id=\"T_70cb6_row7_col0\" class=\"data row7 col0\" >8</td>\n",
       "                        <td id=\"T_70cb6_row7_col1\" class=\"data row7 col1\" >0.857143</td>\n",
       "            </tr>\n",
       "            <tr>\n",
       "                                <td id=\"T_70cb6_row8_col0\" class=\"data row8 col0\" >9</td>\n",
       "                        <td id=\"T_70cb6_row8_col1\" class=\"data row8 col1\" >0.857143</td>\n",
       "            </tr>\n",
       "            <tr>\n",
       "                                <td id=\"T_70cb6_row9_col0\" class=\"data row9 col0\" >10</td>\n",
       "                        <td id=\"T_70cb6_row9_col1\" class=\"data row9 col1\" >0.857143</td>\n",
       "            </tr>\n",
       "            <tr>\n",
       "                                <td id=\"T_70cb6_row10_col0\" class=\"data row10 col0\" >11</td>\n",
       "                        <td id=\"T_70cb6_row10_col1\" class=\"data row10 col1\" >0.857143</td>\n",
       "            </tr>\n",
       "    </tbody></table>"
      ],
      "text/plain": [
       "<pandas.io.formats.style.Styler at 0x7fe742255d90>"
      ]
     },
     "execution_count": 11,
     "metadata": {},
     "output_type": "execute_result"
    }
   ],
   "source": [
    "# model evaluation with accuracy for k=1 to k=10\n",
    "\n",
    "from sklearn.neighbors       import KNeighborsClassifier\n",
    "from sklearn.metrics         import accuracy_score       #, recall_score, precision_score, f1_score\n",
    "\n",
    "df_score = pd.DataFrame(columns = ['KNN #', 'Accuracy'])\n",
    "for k in range(1,12):\n",
    "    model = KNeighborsClassifier(n_neighbors = k)\n",
    "    model.fit(features_train_standardized, target_train)\n",
    "    #-----------------------------------------------------------\n",
    "    target_test_pred = model.predict(features_test_standardized)\n",
    "    df_score.loc[k-1, 'KNN #'] = k\n",
    "    df_score.loc[k-1, 'Accuracy'] = accuracy_score(target_test, target_test_pred)\n",
    "    \n",
    "df_score= df_score.astype({'KNN #': 'int32', 'Accuracy':'float64'})\n",
    "df_score.style.hide_index()                             # [df_score.Accuracy == df_score.Accuracy.max()]"
   ]
  },
  {
   "cell_type": "code",
   "execution_count": 12,
   "metadata": {},
   "outputs": [],
   "source": [
    "model_knn = KNeighborsClassifier(n_neighbors=4)\n",
    "model_knn.fit(features_train_standardized, target_train)\n",
    "target_test_pred = model_knn.predict(features_test_standardized)\n"
   ]
  },
  {
   "cell_type": "markdown",
   "metadata": {
    "cell_content_type": "markdown_default",
    "changed": false,
    "deletable": false,
    "editable": false,
    "original-content": "Then plot the accuracy values for each $k$ value from 1 to 10. Plot the accuracy on the y-axis and the number of nearest neighbors on the x-axis.\n",
    "selectable": false
   },
   "source": [
    "Then plot the accuracy values for each $k$ value from 1 to 10. Plot the accuracy on the y-axis and the number of nearest neighbors on the x-axis.\n"
   ]
  },
  {
   "cell_type": "code",
   "execution_count": 13,
   "metadata": {
    "cell_content_type": "code_user",
    "changed": false,
    "deletable": false,
    "editable": true,
    "hint": "For example, use `plt.plot(range(1, 11), score_list)` to create a number series from 1 to 10 on the x-axis and plot your accuracy values on the y-axis, provided you named your list `score_list`.",
    "hint_counter": 3,
    "original-content": "# plot accuracy scores\n\n",
    "selectable": true,
    "tags": []
   },
   "outputs": [
    {
     "data": {
      "text/html": [
       "<style  type=\"text/css\" >\n",
       "</style><table id=\"T_0fa46_\" ><thead>    <tr>        <th class=\"col_heading level0 col0\" >KNN #</th>        <th class=\"col_heading level0 col1\" >Accuracy</th>    </tr></thead><tbody>\n",
       "                <tr>\n",
       "                                <td id=\"T_0fa46_row0_col0\" class=\"data row0 col0\" >4</td>\n",
       "                        <td id=\"T_0fa46_row0_col1\" class=\"data row0 col1\" >0.885714</td>\n",
       "            </tr>\n",
       "    </tbody></table>"
      ],
      "text/plain": [
       "<pandas.io.formats.style.Styler at 0x7fe742255fd0>"
      ]
     },
     "execution_count": 13,
     "metadata": {},
     "output_type": "execute_result"
    }
   ],
   "source": [
    "# plot accuracy scores\n",
    "df_score.loc[:,'Accuracy']\n",
    "df_score = df_score.astype({'KNN #': 'int32', 'Accuracy':'float64'})\n",
    "\n",
    "df_score[df_score.Accuracy == df_score.Accuracy.max()].style.hide_index()"
   ]
  },
  {
   "cell_type": "markdown",
   "metadata": {
    "cell_content_type": "markdown_selectable",
    "changed": false,
    "deletable": false,
    "editable": false,
    "original-content": "Now select the k-value that achieved the best accuracy value and instantiate your model again. It now provides a confusion matrix (`confusion_matrix()`) that tells you the number of true-positive, false-positive, true-negative, and false-negative cases in the test data set.\n",
    "selectable": true
   },
   "source": [
    "Now select the k-value that achieved the best accuracy value and instantiate your model again. It now provides a confusion matrix (`confusion_matrix()`) that tells you the number of true-positive, false-positive, true-negative, and false-negative cases in the test data set.\n"
   ]
  },
  {
   "cell_type": "code",
   "execution_count": 14,
   "metadata": {
    "cell_content_type": "code_user",
    "changed": false,
    "deletable": false,
    "editable": true,
    "hint": "1. You should have found that the 4 nearest neighbors achieve the best accuracy on the test data. Instantiate the `KNeighborsClassifier()` model again and do it with `n_neighbors=4`. Name your model something like `model_knn`. Fit your model to the standardized features and target vector from the training data set. Using the trained model, predict the target vector from the standardized features of the test data set and store these predictions in a variable named something like `target_test_pred`.\n\n2. Then create a confusion matrix by importing `confusion_matrix()` from `sklearn.metrics`. The confusion matrix should display the true-positive, false-positive, true-negative, and false-negative cases from the test data set using the actual values and the predicted values for the target vector `'class'` from the test data set.\n\n**Tip:** When interpreting the confusion matrix, the class with the small value carries the label 0 and the class with the higher value carries the label 1.",
    "hint_counter": 3,
    "original-content": "# choose k with best accuracy among k=1 and k=10 and plot confusion matrix for test dataset\n\n",
    "selectable": true,
    "tags": []
   },
   "outputs": [
    {
     "data": {
      "text/plain": [
       "array([[40,  3],\n",
       "       [ 5, 22]])"
      ]
     },
     "execution_count": 14,
     "metadata": {},
     "output_type": "execute_result"
    }
   ],
   "source": [
    "# choose k with best accuracy among k=1 and k=10 and plot confusion matrix for test dataset\n",
    "\n",
    "from sklearn.metrics import confusion_matrix\n",
    "confusion_matrix(target_test, target_test_pred)"
   ]
  },
  {
   "cell_type": "code",
   "execution_count": 15,
   "metadata": {},
   "outputs": [
    {
     "name": "stdout",
     "output_type": "stream",
     "text": [
      "0.8857142857142857\n"
     ]
    },
    {
     "data": {
      "image/png": "[encoded data removed]",
      "text/plain": [
       "<Figure size 432x288 with 2 Axes>"
      ]
     },
     "metadata": {
      "needs_background": "light"
     },
     "output_type": "display_data"
    }
   ],
   "source": [
    "# code from markus on 07.09.2023 last day of his mentoring \n",
    "\n",
    "model_knn = KNeighborsClassifier(n_neighbors=4)\n",
    "model_knn.fit(features_train_standardized, target_train)\n",
    "target_test_pred = model_knn.predict(features_test_standardized)\n",
    "\n",
    "print(accuracy_score(target_test, target_test_pred)) # optional; just for demonstration\n",
    "\n",
    "from sklearn.metrics import confusion_matrix\n",
    "fig, ax = plt.subplots()\n",
    "sns.heatmap(confusion_matrix(target_test, target_test_pred), \n",
    "            annot=True, \n",
    "            ax=ax, \n",
    "            cmap= 'coolwarm', \n",
    "            vmin = 0, \n",
    "            vmax = 45)\n",
    "\n",
    "ax.set_xlabel('Prediction')\n",
    "ax.set_ylabel('Truth')\n",
    "ax.xaxis.set_ticklabels(['0-benign', '1-malignant'])\n",
    "ax.yaxis.set_ticklabels(['0-benign', '1-malignant'])\n",
    "ax.set_title('Confusion Matrix of Test set\\n');"
   ]
  },
  {
   "cell_type": "code",
   "execution_count": 16,
   "metadata": {
    "cell_content_type": "code_demo",
    "changed": false,
    "deletable": false,
    "editable": true,
    "hint": "If you would like, you can discuss this in the forum under *Coding Challenge 3: Breast Cancer Classification I*.",
    "hint_counter": 2,
    "original-content": "def perf_measure(y_actual, y_hat):\n    TP = 0\n    FP = 0\n    TN = 0\n    FN = 0\n\n    for i in range(len(y_hat)): \n        if y_actual[i]==y_hat[i]==1:\n            TP += 1\n        if y_hat[i]==1 and y_actual[i]!=y_hat[i]:\n            FP += 1\n        if y_actual[i]==y_hat[i]==0:\n            TN += 1\n        if y_hat[i]==0 and y_actual[i]!=y_hat[i]:\n            FN += 1\n\n    return(TP, FP, TN, FN)\n\nperf_measure(target_test, target_test_pred)",
    "selectable": true,
    "tags": []
   },
   "outputs": [
    {
     "data": {
      "text/plain": [
       "(22, 3, 40, 5)"
      ]
     },
     "execution_count": 16,
     "metadata": {},
     "output_type": "execute_result"
    }
   ],
   "source": [
    "def perf_measure(y_actual, y_hat):\n",
    "    TP = 0\n",
    "    FP = 0\n",
    "    TN = 0\n",
    "    FN = 0\n",
    "\n",
    "    for i in range(len(y_hat)): \n",
    "        if y_actual[i]==y_hat[i]==1:\n",
    "            TP += 1\n",
    "        if y_hat[i]==1 and y_actual[i]!=y_hat[i]:\n",
    "            FP += 1\n",
    "        if y_actual[i]==y_hat[i]==0:\n",
    "            TN += 1\n",
    "        if y_hat[i]==0 and y_actual[i]!=y_hat[i]:\n",
    "            FN += 1\n",
    "\n",
    "    return(TP, FP, TN, FN)\n",
    "\n",
    "perf_measure(target_test, target_test_pred)"
   ]
  },
  {
   "cell_type": "markdown",
   "metadata": {
    "cell_content_type": "markdown_default",
    "changed": false,
    "deletable": false,
    "editable": false,
    "original-content": "You should find 40 true-negative cases (tumor is benign and predicted to be benign) and 22 true-positive cases (tumor is malignant and also predicted to be malignant) in the data set.\n",
    "selectable": false
   },
   "source": [
    "You should find 40 true-negative cases (tumor is benign and predicted to be benign) and 22 true-positive cases (tumor is malignant and also predicted to be malignant) in the data set.\n"
   ]
  },
  {
   "cell_type": "markdown",
   "metadata": {
    "cell_content_type": "markdown_selectable",
    "changed": false,
    "deletable": false,
    "editable": false,
    "original-content": "### 4. Classification of cancer cell samples as benign or malignant \n\nYour algorithm is now trained and can be used to predict whether the cancer cells in the samples in the target data set are benign or malignant.\n\nNow create the feature matrix for the target dataset as well and store it in `features_aim`. The features should be the `'bland_chromatin'` and `'mitoses'` columns. The target vector is not present here because the `'class'` column contains only `NaN` values, i.e. the actual target values are unknown. Also remember to standardize your features here and store them in `features_aim_standardized`. Predict these target values, i.e., whether the cancer cells are benign or malignant, using the trained model from `features_aim_standardized`. Store these predictions in `target_aim_pred` and add your predictions as a new column named `'class_pred'` to the end of `df_aim`. Then print the first 5 lines of `df_aim`.\n",
    "selectable": true
   },
   "source": [
    "### 4. Classification of cancer cell samples as benign or malignant \n",
    "\n",
    "Your algorithm is now trained and can be used to predict whether the cancer cells in the samples in the target data set are benign or malignant.\n",
    "\n",
    "Now create the feature matrix for the target dataset as well and store it in `features_aim`. The features should be the `'bland_chromatin'` and `'mitoses'` columns. The target vector is not present here because the `'class'` column contains only `NaN` values, i.e. the actual target values are unknown. Also remember to standardize your features here and store them in `features_aim_standardized`. Predict these target values, i.e., whether the cancer cells are benign or malignant, using the trained model from `features_aim_standardized`. Store these predictions in `target_aim_pred` and add your predictions as a new column named `'class_pred'` to the end of `df_aim`. Then print the first 5 lines of `df_aim`.\n"
   ]
  },
  {
   "cell_type": "code",
   "execution_count": 17,
   "metadata": {
    "cell_content_type": "code_user",
    "changed": false,
    "deletable": false,
    "editable": true,
    "hint": "1. Store the feature matrix from the target dataset `df_aim` in `features_aim`. Standardize the features and store them in `features_aim_standardized`. Predict the target vector from the standardized features of the target dataset using the trained model and store these predictions in the variable `target_aim_pred`.\n\n2. Add the preditions of whether the cancer cells are benign or malignant to the end of `df_aim` as a column using `df_aim['class_pred'] = target_aim_pred`. Then use `my_df.head()` to print the first 5 rows of `df_aim`.",
    "hint_counter": 2,
    "original-content": "# feature matrix and prediction of target vector for df_aim \n\n",
    "selectable": true,
    "tags": []
   },
   "outputs": [
    {
     "data": {
      "text/html": [
       "<div>\n",
       "<style scoped>\n",
       "    .dataframe tbody tr th:only-of-type {\n",
       "        vertical-align: middle;\n",
       "    }\n",
       "\n",
       "    .dataframe tbody tr th {\n",
       "        vertical-align: top;\n",
       "    }\n",
       "\n",
       "    .dataframe thead th {\n",
       "        text-align: right;\n",
       "    }\n",
       "</style>\n",
       "<table border=\"1\" class=\"dataframe\">\n",
       "  <thead>\n",
       "    <tr style=\"text-align: right;\">\n",
       "      <th></th>\n",
       "      <th>id</th>\n",
       "      <th>clump_thickness</th>\n",
       "      <th>size_uniformity</th>\n",
       "      <th>shape_uniformity</th>\n",
       "      <th>marginal_adhesion</th>\n",
       "      <th>epithelial_size</th>\n",
       "      <th>bare_nucleoli</th>\n",
       "      <th>bland_chromatin</th>\n",
       "      <th>normal_nucleoli</th>\n",
       "      <th>mitoses</th>\n",
       "      <th>class</th>\n",
       "      <th>class_pred</th>\n",
       "    </tr>\n",
       "  </thead>\n",
       "  <tbody>\n",
       "    <tr>\n",
       "      <th>0</th>\n",
       "      <td>1347943</td>\n",
       "      <td>5</td>\n",
       "      <td>2</td>\n",
       "      <td>2</td>\n",
       "      <td>2</td>\n",
       "      <td>2</td>\n",
       "      <td>1.0</td>\n",
       "      <td>1</td>\n",
       "      <td>1</td>\n",
       "      <td>2</td>\n",
       "      <td>NaN</td>\n",
       "      <td>0</td>\n",
       "    </tr>\n",
       "    <tr>\n",
       "      <th>1</th>\n",
       "      <td>1148278</td>\n",
       "      <td>3</td>\n",
       "      <td>3</td>\n",
       "      <td>6</td>\n",
       "      <td>4</td>\n",
       "      <td>5</td>\n",
       "      <td>8.0</td>\n",
       "      <td>4</td>\n",
       "      <td>4</td>\n",
       "      <td>1</td>\n",
       "      <td>NaN</td>\n",
       "      <td>1</td>\n",
       "    </tr>\n",
       "    <tr>\n",
       "      <th>2</th>\n",
       "      <td>706426</td>\n",
       "      <td>5</td>\n",
       "      <td>5</td>\n",
       "      <td>5</td>\n",
       "      <td>2</td>\n",
       "      <td>5</td>\n",
       "      <td>10.0</td>\n",
       "      <td>4</td>\n",
       "      <td>3</td>\n",
       "      <td>1</td>\n",
       "      <td>NaN</td>\n",
       "      <td>1</td>\n",
       "    </tr>\n",
       "    <tr>\n",
       "      <th>3</th>\n",
       "      <td>1075123</td>\n",
       "      <td>3</td>\n",
       "      <td>1</td>\n",
       "      <td>2</td>\n",
       "      <td>1</td>\n",
       "      <td>2</td>\n",
       "      <td>1.0</td>\n",
       "      <td>2</td>\n",
       "      <td>1</td>\n",
       "      <td>1</td>\n",
       "      <td>NaN</td>\n",
       "      <td>0</td>\n",
       "    </tr>\n",
       "    <tr>\n",
       "      <th>4</th>\n",
       "      <td>1183240</td>\n",
       "      <td>4</td>\n",
       "      <td>1</td>\n",
       "      <td>2</td>\n",
       "      <td>1</td>\n",
       "      <td>2</td>\n",
       "      <td>1.0</td>\n",
       "      <td>2</td>\n",
       "      <td>1</td>\n",
       "      <td>1</td>\n",
       "      <td>NaN</td>\n",
       "      <td>0</td>\n",
       "    </tr>\n",
       "  </tbody>\n",
       "</table>\n",
       "</div>"
      ],
      "text/plain": [
       "        id  clump_thickness  size_uniformity  shape_uniformity  \\\n",
       "0  1347943                5                2                 2   \n",
       "1  1148278                3                3                 6   \n",
       "2   706426                5                5                 5   \n",
       "3  1075123                3                1                 2   \n",
       "4  1183240                4                1                 2   \n",
       "\n",
       "   marginal_adhesion  epithelial_size  bare_nucleoli  bland_chromatin  \\\n",
       "0                  2                2            1.0                1   \n",
       "1                  4                5            8.0                4   \n",
       "2                  2                5           10.0                4   \n",
       "3                  1                2            1.0                2   \n",
       "4                  1                2            1.0                2   \n",
       "\n",
       "   normal_nucleoli  mitoses class  class_pred  \n",
       "0                1        2   NaN           0  \n",
       "1                4        1   NaN           1  \n",
       "2                3        1   NaN           1  \n",
       "3                1        1   NaN           0  \n",
       "4                1        1   NaN           0  "
      ]
     },
     "execution_count": 17,
     "metadata": {},
     "output_type": "execute_result"
    }
   ],
   "source": [
    "# feature matrix and prediction of target vector for df_aim  breastcancer_aim.csv\n",
    "df_aim = pd.read_csv('breastcancer_aim.csv')\n",
    "df_aim = df_aim.astype({'class':'category', 'id':'category'})\n",
    "\n",
    "features_aim = df_aim.loc[:, ['mitoses', 'bland_chromatin']]\n",
    "target_aim   = df_aim.loc[:,'class']\n",
    "features_aim_standardized = scaler.transform(features_aim)\n",
    "target_aim_pred = model.predict(features_aim_standardized)\n",
    "df_aim['class_pred'] = target_aim_pred\n",
    "df_aim.head()"
   ]
  },
  {
   "cell_type": "markdown",
   "metadata": {
    "cell_content_type": "markdown_selectable",
    "changed": false,
    "deletable": false,
    "editable": false,
    "original-content": "Filter for all predictions that predict malignant (malignant=`1`) breast cancer. Determine the number of these samples in the target data.\n",
    "selectable": true
   },
   "source": [
    "Filter for all predictions that predict malignant (malignant=`1`) breast cancer. Determine the number of these samples in the target data.\n"
   ]
  },
  {
   "cell_type": "code",
   "execution_count": 18,
   "metadata": {
    "cell_content_type": "code_user",
    "changed": false,
    "deletable": false,
    "editable": true,
    "hint": "Use a boolean mask: `df_aim['class_pred'] == 1` and store the output e.g. in `mask_malignant`. Get the number of all masked rows in `df_aim` with `df_aim[mask_malignant]` by applying `len()` to it.",
    "hint_counter": 2,
    "original-content": "# mask for malignant tumor cells in df_aim\n\n",
    "selectable": true,
    "tags": []
   },
   "outputs": [
    {
     "data": {
      "text/plain": [
       "27"
      ]
     },
     "execution_count": 18,
     "metadata": {},
     "output_type": "execute_result"
    }
   ],
   "source": [
    "# mask for malignant tumor cells in df_aim\n",
    "mask_malignant = df_aim['class_pred'] == 1\n",
    "len(df_aim.loc[mask_malignant,:])"
   ]
  },
  {
   "cell_type": "markdown",
   "metadata": {
    "cell_content_type": "markdown_default",
    "changed": false,
    "deletable": false,
    "editable": false,
    "original-content": "How many malignant tumors could you find in the target data based on your trained model?\n",
    "selectable": false
   },
   "source": [
    "How many malignant tumors could you find in the target data based on your trained model?\n"
   ]
  },
  {
   "cell_type": "markdown",
   "metadata": {
    "cell_content_type": "markdown_selectable",
    "changed": false,
    "deletable": false,
    "editable": false,
    "messageType": "glueckwunsch",
    "original-content": "**Congratulations:** You identified 27 (potentially) malignant tumors in the cell samples using the k-Nearest-Neighbors algorithm in the target data set. We selected only two features `'bland_chromatin'` and `'mitoses'` in this case because they showed the lowest intercorrelation. If we had included more features, our model assumption that our features were independent would have been violated. However, in your prediction you should keep in mind that our algorithm of considering k=4 nearest neighbors for deciding whether a tumor is malignant or benign could still achieve a good prediction accuracy of about 88.6% on the test data, but isn't perfect either. So, we can predict false-positive or false-negative cases in the data, just like in the test data set. Now, if we were to visualize the decision boundary of the standardized features `'bland_chromatin'` and `'mitoses'` for the target data set `df_aim`, it would look like this:\n\n<img src=\"breastcancer_aim-decision-treshold_standardized.png\">\n\nWe should also recap that with unequal classes, accuracy  is not a good measure of model quality in this data set, but this was the instruction your superiors gave you. We'll learn how to deal with unbalanced classes later in the course. In any case, it would have been better to use another metric such as recall, precision, or the harmonic mean of both metrics (F1 value).\n",
    "selectable": true
   },
   "source": [
    "**Congratulations:** You identified 27 (potentially) malignant tumors in the cell samples using the k-Nearest-Neighbors algorithm in the target data set. We selected only two features `'bland_chromatin'` and `'mitoses'` in this case because they showed the lowest intercorrelation. If we had included more features, our model assumption that our features were independent would have been violated. However, in your prediction you should keep in mind that our algorithm of considering k=4 nearest neighbors for deciding whether a tumor is malignant or benign could still achieve a good prediction accuracy of about 88.6% on the test data, but isn't perfect either. So, we can predict false-positive or false-negative cases in the data, just like in the test data set. Now, if we were to visualize the decision boundary of the standardized features `'bland_chromatin'` and `'mitoses'` for the target data set `df_aim`, it would look like this:\n",
    "\n",
    "<img src=\"breastcancer_aim-decision-treshold_standardized.png\">\n",
    "\n",
    "We should also recap that with unequal classes, accuracy  is not a good measure of model quality in this data set, but this was the instruction your superiors gave you. We'll learn how to deal with unbalanced classes later in the course. In any case, it would have been better to use another metric such as recall, precision, or the harmonic mean of both metrics (F1 value).\n"
   ]
  },
  {
   "cell_type": "code",
   "execution_count": 43,
   "metadata": {},
   "outputs": [
    {
     "data": {
      "text/plain": [
       "GridSearchCV(cv=5,\n",
       "             estimator=Pipeline(steps=[('std', StandardScaler()),\n",
       "                                       ('knn', KNeighborsClassifier())]),\n",
       "             n_jobs=-1,\n",
       "             param_grid={'knn__n_neighbors': range(1, 30),\n",
       "                         'knn__weights': ['uniform', 'distance']},\n",
       "             scoring='accuracy')"
      ]
     },
     "execution_count": 43,
     "metadata": {},
     "output_type": "execute_result"
    }
   ],
   "source": [
    "# ======================= this is the 2nd possibility with GridSearchCV added on Sunday 24.09.23 ==================\n",
    "from sklearn.model_selection import GridSearchCV\n",
    "from sklearn.pipeline        import Pipeline\n",
    "\n",
    "k = range(1, 30)  \n",
    "search_space_knn = {'knn__n_neighbors': k,  \n",
    "                    'knn__weights': ['uniform', 'distance']}\n",
    "\n",
    "pipeline_knn = Pipeline([('std', StandardScaler()),\n",
    "                         ('knn', KNeighborsClassifier()) \n",
    "                        ])\n",
    "model_knn = GridSearchCV(estimator = pipeline_knn,\n",
    "                         param_grid = search_space_knn,\n",
    "                         scoring    = 'accuracy',\n",
    "                         n_jobs     = -1,\n",
    "                         cv         = 5)\n",
    "model_knn.fit(features_train, target_train)"
   ]
  },
  {
   "cell_type": "code",
   "execution_count": 44,
   "metadata": {},
   "outputs": [
    {
     "name": "stdout",
     "output_type": "stream",
     "text": [
      "Pipeline(steps=[('std', StandardScaler()),\n",
      "                ('knn', KNeighborsClassifier(n_neighbors=14))])\n",
      "-----------------------------\n",
      "0.9319571865443426\n",
      "-----------------------------\n",
      "{'knn__n_neighbors': 14, 'knn__weights': 'uniform'}\n"
     ]
    }
   ],
   "source": [
    "print(model_knn.best_estimator_)\n",
    "print('-----------------------------')\n",
    "print(model_knn.best_score_)\n",
    "print('-----------------------------')\n",
    "print(model_knn.best_params_)"
   ]
  },
  {
   "cell_type": "code",
   "execution_count": 45,
   "metadata": {},
   "outputs": [],
   "source": [
    "grid_model = model_knn.best_estimator_"
   ]
  },
  {
   "cell_type": "code",
   "execution_count": 49,
   "metadata": {},
   "outputs": [
    {
     "data": {
      "text/plain": [
       "array([[39,  4],\n",
       "       [ 5, 22]])"
      ]
     },
     "execution_count": 49,
     "metadata": {},
     "output_type": "execute_result"
    }
   ],
   "source": [
    "target_test_pred_grid = grid_model.predict(features_test)\n",
    "confusion_m = confusion_matrix(target_test, target_test_pred_grid)\n",
    "confusion_m"
   ]
  },
  {
   "cell_type": "code",
   "execution_count": 50,
   "metadata": {},
   "outputs": [
    {
     "data": {
      "image/png": "[encoded data removed]",
      "text/plain": [
       "<Figure size 432x288 with 2 Axes>"
      ]
     },
     "metadata": {
      "needs_background": "light"
     },
     "output_type": "display_data"
    }
   ],
   "source": [
    "fig, ax = plt.subplots()\n",
    "sns.heatmap(confusion_m, \n",
    "            annot=True, \n",
    "            ax=ax, \n",
    "            cmap= 'coolwarm', \n",
    "            vmin = 0, \n",
    "            vmax = 45)\n",
    "\n",
    "ax.set_xlabel('Prediction')\n",
    "ax.set_ylabel('Truth')\n",
    "ax.xaxis.set_ticklabels(['0-benign', '1-malignant'])\n",
    "ax.yaxis.set_ticklabels(['0-benign', '1-malignant'])\n",
    "ax.set_title('Confusion Matrix of Test set\\n');"
   ]
  },
  {
   "cell_type": "code",
   "execution_count": 51,
   "metadata": {},
   "outputs": [
    {
     "data": {
      "text/html": [
       "<div>\n",
       "<style scoped>\n",
       "    .dataframe tbody tr th:only-of-type {\n",
       "        vertical-align: middle;\n",
       "    }\n",
       "\n",
       "    .dataframe tbody tr th {\n",
       "        vertical-align: top;\n",
       "    }\n",
       "\n",
       "    .dataframe thead th {\n",
       "        text-align: right;\n",
       "    }\n",
       "</style>\n",
       "<table border=\"1\" class=\"dataframe\">\n",
       "  <thead>\n",
       "    <tr style=\"text-align: right;\">\n",
       "      <th></th>\n",
       "      <th>id</th>\n",
       "      <th>clump_thickness</th>\n",
       "      <th>size_uniformity</th>\n",
       "      <th>shape_uniformity</th>\n",
       "      <th>marginal_adhesion</th>\n",
       "      <th>epithelial_size</th>\n",
       "      <th>bare_nucleoli</th>\n",
       "      <th>bland_chromatin</th>\n",
       "      <th>normal_nucleoli</th>\n",
       "      <th>mitoses</th>\n",
       "      <th>class</th>\n",
       "      <th>class_pred</th>\n",
       "      <th>class_pred_GridCV</th>\n",
       "    </tr>\n",
       "  </thead>\n",
       "  <tbody>\n",
       "    <tr>\n",
       "      <th>0</th>\n",
       "      <td>1347943</td>\n",
       "      <td>5</td>\n",
       "      <td>2</td>\n",
       "      <td>2</td>\n",
       "      <td>2</td>\n",
       "      <td>2</td>\n",
       "      <td>1.0</td>\n",
       "      <td>1</td>\n",
       "      <td>1</td>\n",
       "      <td>2</td>\n",
       "      <td>NaN</td>\n",
       "      <td>0</td>\n",
       "      <td>0</td>\n",
       "    </tr>\n",
       "    <tr>\n",
       "      <th>1</th>\n",
       "      <td>1148278</td>\n",
       "      <td>3</td>\n",
       "      <td>3</td>\n",
       "      <td>6</td>\n",
       "      <td>4</td>\n",
       "      <td>5</td>\n",
       "      <td>8.0</td>\n",
       "      <td>4</td>\n",
       "      <td>4</td>\n",
       "      <td>1</td>\n",
       "      <td>NaN</td>\n",
       "      <td>1</td>\n",
       "      <td>1</td>\n",
       "    </tr>\n",
       "    <tr>\n",
       "      <th>2</th>\n",
       "      <td>706426</td>\n",
       "      <td>5</td>\n",
       "      <td>5</td>\n",
       "      <td>5</td>\n",
       "      <td>2</td>\n",
       "      <td>5</td>\n",
       "      <td>10.0</td>\n",
       "      <td>4</td>\n",
       "      <td>3</td>\n",
       "      <td>1</td>\n",
       "      <td>NaN</td>\n",
       "      <td>1</td>\n",
       "      <td>1</td>\n",
       "    </tr>\n",
       "    <tr>\n",
       "      <th>3</th>\n",
       "      <td>1075123</td>\n",
       "      <td>3</td>\n",
       "      <td>1</td>\n",
       "      <td>2</td>\n",
       "      <td>1</td>\n",
       "      <td>2</td>\n",
       "      <td>1.0</td>\n",
       "      <td>2</td>\n",
       "      <td>1</td>\n",
       "      <td>1</td>\n",
       "      <td>NaN</td>\n",
       "      <td>0</td>\n",
       "      <td>0</td>\n",
       "    </tr>\n",
       "    <tr>\n",
       "      <th>4</th>\n",
       "      <td>1183240</td>\n",
       "      <td>4</td>\n",
       "      <td>1</td>\n",
       "      <td>2</td>\n",
       "      <td>1</td>\n",
       "      <td>2</td>\n",
       "      <td>1.0</td>\n",
       "      <td>2</td>\n",
       "      <td>1</td>\n",
       "      <td>1</td>\n",
       "      <td>NaN</td>\n",
       "      <td>0</td>\n",
       "      <td>0</td>\n",
       "    </tr>\n",
       "  </tbody>\n",
       "</table>\n",
       "</div>"
      ],
      "text/plain": [
       "        id  clump_thickness  size_uniformity  shape_uniformity  \\\n",
       "0  1347943                5                2                 2   \n",
       "1  1148278                3                3                 6   \n",
       "2   706426                5                5                 5   \n",
       "3  1075123                3                1                 2   \n",
       "4  1183240                4                1                 2   \n",
       "\n",
       "   marginal_adhesion  epithelial_size  bare_nucleoli  bland_chromatin  \\\n",
       "0                  2                2            1.0                1   \n",
       "1                  4                5            8.0                4   \n",
       "2                  2                5           10.0                4   \n",
       "3                  1                2            1.0                2   \n",
       "4                  1                2            1.0                2   \n",
       "\n",
       "   normal_nucleoli  mitoses class  class_pred  class_pred_GridCV  \n",
       "0                1        2   NaN           0                  0  \n",
       "1                4        1   NaN           1                  1  \n",
       "2                3        1   NaN           1                  1  \n",
       "3                1        1   NaN           0                  0  \n",
       "4                1        1   NaN           0                  0  "
      ]
     },
     "execution_count": 51,
     "metadata": {},
     "output_type": "execute_result"
    }
   ],
   "source": [
    "target_aim_pred_grid = grid_model.predict(features_aim)\n",
    "df_aim['class_pred_GridCV'] = target_aim_pred_grid\n",
    "df_aim.head()"
   ]
  },
  {
   "cell_type": "code",
   "execution_count": 25,
   "metadata": {},
   "outputs": [
    {
     "data": {
      "text/plain": [
       "27"
      ]
     },
     "execution_count": 25,
     "metadata": {},
     "output_type": "execute_result"
    }
   ],
   "source": [
    "mask_malignant_grid = df_aim['class_pred_GridCV'] == 1\n",
    "len(df_aim.loc[mask_malignant_grid,:])"
   ]
  },
  {
   "cell_type": "code",
   "execution_count": 28,
   "metadata": {},
   "outputs": [
    {
     "data": {
      "text/plain": [
       "True"
      ]
     },
     "execution_count": 28,
     "metadata": {},
     "output_type": "execute_result"
    }
   ],
   "source": [
    "df_aim.class_pred.equals(df_aim['class_pred_GridCV'])"
   ]
  },
  {
   "cell_type": "markdown",
   "metadata": {
    "cell_content_type": "markdown_default",
    "changed": false,
    "deletable": false,
    "editable": false,
    "original-content": "***\nDo you have any questions about this exercise? Look in the [forum](https://platform.stackfuel.com/forums) to see if they have already been discussed.\n***\nFound a mistake? Contact Support at [support@stackfuel.com](mailto:support@stackfuel.com?subject=[StackFuel-DSC-AZAV]%20Module1%20Chapter2%20Notebook1).\n***\n",
    "selectable": false
   },
   "source": [
    "***\n",
    "Do you have any questions about this exercise? Look in the [forum](https://platform.stackfuel.com/forums) to see if they have already been discussed.\n",
    "***\n",
    "Found a mistake? Contact Support at [support@stackfuel.com](mailto:support@stackfuel.com?subject=[StackFuel-DSC-AZAV]%20Module1%20Chapter2%20Notebook1).\n",
    "***\n"
   ]
  }
 ],
 "metadata": {
  "content_id": "66b0be0b-fdb9-4ae4-9006-18aaa5c11931",
  "content_language": "en",
  "content_title": "Coding Challenge 3: Breast Cancer Classification I",
  "content_type": "exercise",
  "kernelspec": {
   "display_name": "Python 3 (ipykernel)",
   "language": "python",
   "name": "python3"
  },
  "language_info": {
   "codemirror_mode": {
    "name": "ipython",
    "version": 3
   },
   "file_extension": ".py",
   "mimetype": "text/x-python",
   "name": "python",
   "nbconvert_exporter": "python",
   "pygments_lexer": "ipython3",
   "version": "3.11.7"
  }
 },
 "nbformat": 4,
 "nbformat_minor": 4
}
